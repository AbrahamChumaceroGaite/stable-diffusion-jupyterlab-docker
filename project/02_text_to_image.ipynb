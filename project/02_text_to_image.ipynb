{
 "cells": [
  {
   "cell_type": "markdown",
   "id": "63a9ff1e-1cf0-4215-9e7b-514c8953c97d",
   "metadata": {},
   "source": [
    "- Run first notebnook before using this one\n",
    "- [Official HuggingFace tutorial](https://huggingface.co/blog/stable_diffusion)"
   ]
  },
  {
   "cell_type": "code",
   "execution_count": null,
   "id": "e242739b-b138-434d-93fc-1592ec9dd0f0",
   "metadata": {},
   "outputs": [],
   "source": [
    "# !pip install accelerate\n",
    "!nvidia-smi"
   ]
  },
  {
   "cell_type": "code",
   "execution_count": null,
   "id": "0d7d9de2-d3d8-43e5-be9a-af449e2fc5a2",
   "metadata": {},
   "outputs": [],
   "source": [
    "import torch\n",
    "from torch import autocast\n",
    "from diffusers import StableDiffusionPipeline\n",
    "from time import time\n",
    "from slugify import slugify"
   ]
  },
  {
   "cell_type": "markdown",
   "id": "66c298f9-1c1d-47b7-95d8-f9ef93f94381",
   "metadata": {},
   "source": [
    "- Load model from disk (you only have it if you ran successfully the first notebook)"
   ]
  },
  {
   "cell_type": "code",
   "execution_count": null,
   "id": "858b005b-baed-4508-83a3-fcb2e8ded3d1",
   "metadata": {},
   "outputs": [],
   "source": [
    "# model = StableDiffusionPipeline.from_pretrained(\n",
    "#     'models/stable-diffusion-v1.4',\n",
    "#     revision='fp16',\n",
    "#     torch_dtype=torch.float16\n",
    "# )\n",
    "# model.to('cuda')\n",
    "# model.device"
   ]
  },
  {
   "cell_type": "code",
   "execution_count": null,
   "id": "2e9e23fe-3dfa-46e6-aca0-82b01e9ec2cf",
   "metadata": {
    "tags": []
   },
   "outputs": [],
   "source": [
    "# model = StableDiffusionPipeline.from_pretrained(\n",
    "#     'models/loulou_model/this_is_the_one_2022-10-21T23-51-51_louispaulet_man_model_12_training_images_2000_max_training_steps_louispaulet_token_man_class_word.ckpt',\n",
    "#     revision='fp16',\n",
    "#     torch_dtype=torch.float16\n",
    "# )\n",
    "# model.to('cuda')\n",
    "# model.device"
   ]
  },
  {
   "cell_type": "code",
   "execution_count": null,
   "id": "88bdbd1f-17f4-43db-a73e-11bfbfef411e",
   "metadata": {},
   "outputs": [],
   "source": [
    "model = StableDiffusionPipeline.from_pretrained(\n",
    "    'models/stable-diffusion-v1.5',\n",
    "    revision='fp16',\n",
    "    torch_dtype=torch.float16\n",
    ")\n",
    "model.to('cuda')\n",
    "model.device"
   ]
  },
  {
   "cell_type": "code",
   "execution_count": null,
   "id": "d5210eb6-45d9-4714-ba80-c9c72dca5f80",
   "metadata": {},
   "outputs": [],
   "source": [
    "model.safety_checker = (lambda images, clip_input: (images, False))"
   ]
  },
  {
   "cell_type": "markdown",
   "id": "7e3fe4f0-97fe-40b4-aac4-5b4cb4dba2df",
   "metadata": {},
   "source": [
    "- Set random seed for repeatability"
   ]
  },
  {
   "cell_type": "code",
   "execution_count": null,
   "id": "25a97201-ef72-43f5-aef7-2937b5c21954",
   "metadata": {},
   "outputs": [],
   "source": [
    "seed_generator = torch.Generator('cuda').manual_seed(42)"
   ]
  },
  {
   "cell_type": "markdown",
   "id": "59891260-4482-4fe0-b96d-13dfac69dfae",
   "metadata": {},
   "source": [
    "- Generate image from prompt"
   ]
  },
  {
   "cell_type": "code",
   "execution_count": null,
   "id": "0ce95828-5a9a-47f6-b6e0-24db7889145f",
   "metadata": {
    "tags": []
   },
   "outputs": [],
   "source": [
    "def make_n_images(prompt):\n",
    "\n",
    "    # prompt      = \"chicken, art deco portrait, elegant, intricate, digital painting, artstation, concept art, smooth, sharp focus, illustration\"\n",
    "    repetitions = 20\n",
    "\n",
    "    with autocast('cuda'):\n",
    "        for r in range(repetitions):\n",
    "            output = model(\n",
    "                prompt,\n",
    "                generator=seed_generator,\n",
    "                num_inference_steps=50, # diffusion iterations\n",
    "                guidance_scale=7.5,     # adherence to text, default 7.5\n",
    "                width=512,\n",
    "                height=512,\n",
    "            )\n",
    "\n",
    "            image = output.images[0]\n",
    "            image.save(f'images/{time()}_{slugify(prompt[:100])}.png')\n",
    "            display(image)"
   ]
  },
  {
   "cell_type": "code",
   "execution_count": null,
   "id": "4151bc27-886f-42cd-add2-53c9e9a723d8",
   "metadata": {
    "tags": []
   },
   "outputs": [],
   "source": [
    "# torch.cuda.empty_cache()\n",
    "# print(torch.cuda.memory_summary(device=None, abbreviated=False))"
   ]
  },
  {
   "cell_type": "code",
   "execution_count": null,
   "id": "58ce6271-d4cd-48a1-b789-ccefd27247b7",
   "metadata": {
    "tags": []
   },
   "outputs": [],
   "source": [
    "# prompt = \"zommed in jesus christ building a sand castle, jesus christ bright halo around the head, small intricate sand castle, umbrellas and towels on the beach, by John Everett Millais, oil on canvas, Pre-Raphaelite style, detailed water, sandy beach\"\n",
    "# prompt = \"masterwork oil on canvas of jesus christ building the perfect sandcastle by John Everett Millais\"\n",
    "\n",
    "# prompt = \"zoomed-in masterwork oil on canvas, portrait of jesus christ man holding two icecream cones, forest in the background, by John Everett Millais\"\n",
    "\n",
    "# prompt = \"jesus christ in a bathrobe, holding an icecream cone in the right hand, standing in the swimming pool side, his parents garden in the background, by John Everett Millais, detailed leaves, intricate detail, chestnut tree and strawberry plants, big mac boxes laying in the background\"\n",
    "\n",
    "# prompt = \"jesus christ in a rollercoaster car, holding an icecream cone in the right hand, standing in disneyland park, disney characters in the background, by John Everett Millais, detailed leaves, intricate detail, intricate disneyland park in the background\"\n",
    "\n",
    "# prompt = \"jesus christ standing in front of disneyland castle and gardens by John Everett Millais intricately detailed flora preraphaelite disney decors zoom on jesus christ face\"\n",
    "# prompt = \"saint with halo Jesus Christ man holding a hamburger in front of a very detailed macdonalds restaurant in nazareth by John Everett Millais\"\n",
    "# prompt = \"Jesus Christ man detailed face handing out bigmac hamburgers in front of a macdonalds restaurant in nazareth by John Everett Millais\"\n",
    "# prompt = \"zoomed-in intricate masterwork portrait, all powerful saint satan god using a flesh vessel on a throne made of human skulls, with hell in the background made of pools of lava and tortured souls on stakes, by John Everett Millais, intricate details, vibrant colors\"\n",
    "# prompt = \"oil on canvas of ancient mesoamerican temple in the lushious green jungle forest, by John Everett Millais, intricate details, vibrant colors, beautiful leaves, detailed trees, giant pillars composed of monolithic stones and sculpted stone arches and gold deities statues, trending on artstation\"\n",
    "# prompt = \"digital painting of minuscule and peculiar stone egg in a lushious pandora forest by John Everett Millais, award winning intricate details and vibrant colors trending on artstation\"\n",
    "\n",
    "\n",
    "# prompt = \"digital painting of robot knight in a dense lushious tropical jungle detailed and intricate flora the by John Everett Millais 1880, trending on Artstation\"\n",
    "\n",
    "# prompt = \"ARTIST Sir John Everett Millais 1894, MEDIUM Oil paint on canvas, DIMENSIONS 762 × 1118 mm, COLLECTION Tate\"\n",
    "\n",
    "# prompt = \"This work shows the death of Ophelia, a scene from Shakespeare’s play Hamlet. Traumatised when Hamlet breaks off their betrothal and accidentally kills her father, she allows herself to fall into a stream and drown. The flowers she has been collecting symbolise her story, the poppies representing death. Millais painted the lonely setting leaf-by-leaf over many months by the Hogsmill River, Surrey. Afterwards, the artist, poet and model Elizabeth Siddall posed in a wedding dress in a bath of water at Millais's studio. Through the painting, Millais critiqued the Victorian practice of occasionally arranging marriages for money and status.\"\n",
    "\n",
    "# prompt = \"Painting of Ophelia from Hamlet by J.G. Millais began in 1851, at Ewell, Surrey, as part of his Pre-Raphaelite Brotherhood project. Arthur Hughes exhibited his version of her death scene in the same year. J.G. Millais' Ophelia was part of the original Henry Tate gift to the Tate Gallery in 1852.\"\n",
    "\n",
    "# prompt = \"Painting of Ophelia and a rubber duck in a pond surrounded by flowers by J.G. Millais 18th century, part of his Pre-Raphaelite Brotherhood project\"\n",
    "\n",
    "# prompt = \"Sir John Everett Millais Fat Ophelia 1851 Tate\"\n",
    "\n",
    "# prompt = \"digital painting of a woman very detailed face and her bonzai inside lushious Palm house Botanical garden flowers by John Everett Millais\"\n",
    "# prompt = \"digital painting, of a woman very detailed face, and her bonzai, lushious Palm house Botanical garden flowers, by John Everett Millais\"\n",
    "# prompt = \"digital still life painting, of a very detailed flower bouquet, orchids and roses, a secateur and a trowel, lushious Palm house interior, flower pots arranged in the background, by John Everett Millais\"\n",
    "\n",
    "# prompt = \"digital painting by Gustave Moreau, Les Filles de Thespius 1882, musée Gustave-Moreau, detailed faces, intricate classical background, 8k dynamic lighting\"\n",
    "# prompt = \"zoomed-in digital painting portrait of tom cruise, palace interior with fresh flowers in vases, by Gustave Moreau, by John Everett Millais\"\n",
    "\n",
    "make_n_images(prompt)"
   ]
  },
  {
   "cell_type": "code",
   "execution_count": null,
   "id": "49357e6b-347c-48a3-b608-fb05c8282a0e",
   "metadata": {},
   "outputs": [],
   "source": []
  }
 ],
 "metadata": {
  "kernelspec": {
   "display_name": "Python 3 (ipykernel)",
   "language": "python",
   "name": "python3"
  },
  "language_info": {
   "codemirror_mode": {
    "name": "ipython",
    "version": 3
   },
   "file_extension": ".py",
   "mimetype": "text/x-python",
   "name": "python",
   "nbconvert_exporter": "python",
   "pygments_lexer": "ipython3",
   "version": "3.7.13"
  }
 },
 "nbformat": 4,
 "nbformat_minor": 5
}
